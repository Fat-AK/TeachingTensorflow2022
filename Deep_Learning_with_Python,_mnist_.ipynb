{
  "nbformat": 4,
  "nbformat_minor": 0,
  "metadata": {
    "colab": {
      "provenance": [],
      "authorship_tag": "ABX9TyN0SWRzGq6XA9HktFxHMZHi",
      "include_colab_link": true
    },
    "kernelspec": {
      "name": "python3",
      "display_name": "Python 3"
    },
    "language_info": {
      "name": "python"
    }
  },
  "cells": [
    {
      "cell_type": "markdown",
      "metadata": {
        "id": "view-in-github",
        "colab_type": "text"
      },
      "source": [
        "<a href=\"https://colab.research.google.com/github/Fat-AK/TeachingTensorflow2022/blob/main/Deep_Learning_with_Python%2C_mnist_.ipynb\" target=\"_parent\"><img src=\"https://colab.research.google.com/assets/colab-badge.svg\" alt=\"Open In Colab\"/></a>"
      ]
    },
    {
      "cell_type": "code",
      "execution_count": null,
      "metadata": {
        "colab": {
          "base_uri": "https://localhost:8080/"
        },
        "id": "xXzK7Yvn5dFw",
        "outputId": "aa2e08b9-2d85-43c1-9823-f426a97a11c5"
      },
      "outputs": [
        {
          "output_type": "stream",
          "name": "stdout",
          "text": [
            "Downloading data from https://storage.googleapis.com/tensorflow/tf-keras-datasets/mnist.npz\n",
            "11490434/11490434 [==============================] - 0s 0us/step\n"
          ]
        }
      ],
      "source": [
        "from tensorflow.keras.datasets import mnist\n",
        "(train_images, train_labels), (test_images, test_labels) = mnist.load_data()"
      ]
    },
    {
      "cell_type": "code",
      "source": [
        "train_images.shape"
      ],
      "metadata": {
        "colab": {
          "base_uri": "https://localhost:8080/"
        },
        "id": "Tt9WxLrt5vva",
        "outputId": "24012171-8842-4136-8b16-6d4dd759fce1"
      },
      "execution_count": null,
      "outputs": [
        {
          "output_type": "execute_result",
          "data": {
            "text/plain": [
              "(60000, 28, 28)"
            ]
          },
          "metadata": {},
          "execution_count": 2
        }
      ]
    },
    {
      "cell_type": "code",
      "source": [
        "len(train_labels)"
      ],
      "metadata": {
        "colab": {
          "base_uri": "https://localhost:8080/"
        },
        "id": "tmzfTXdc5x9U",
        "outputId": "c5ef7b3f-3553-4c9e-e22c-8746cf6577e3"
      },
      "execution_count": null,
      "outputs": [
        {
          "output_type": "execute_result",
          "data": {
            "text/plain": [
              "60000"
            ]
          },
          "metadata": {},
          "execution_count": 3
        }
      ]
    },
    {
      "cell_type": "code",
      "source": [
        "train_labels"
      ],
      "metadata": {
        "colab": {
          "base_uri": "https://localhost:8080/"
        },
        "id": "6YXapbYd54w3",
        "outputId": "8b65c191-ba22-4cdc-ff07-2a485bb8dad3"
      },
      "execution_count": null,
      "outputs": [
        {
          "output_type": "execute_result",
          "data": {
            "text/plain": [
              "array([5, 0, 4, ..., 5, 6, 8], dtype=uint8)"
            ]
          },
          "metadata": {},
          "execution_count": 4
        }
      ]
    },
    {
      "cell_type": "code",
      "source": [
        "test_images.shape"
      ],
      "metadata": {
        "colab": {
          "base_uri": "https://localhost:8080/"
        },
        "id": "Gcw5Clx26LrA",
        "outputId": "c5f84598-b9f5-4554-8765-a2b9ec04df1a"
      },
      "execution_count": null,
      "outputs": [
        {
          "output_type": "execute_result",
          "data": {
            "text/plain": [
              "(10000, 28, 28)"
            ]
          },
          "metadata": {},
          "execution_count": 7
        }
      ]
    },
    {
      "cell_type": "code",
      "source": [
        "len(test_labels) "
      ],
      "metadata": {
        "colab": {
          "base_uri": "https://localhost:8080/"
        },
        "id": "WrEfg_iD6Vxq",
        "outputId": "2c7030ff-f032-4c76-bc6b-fa666c4558b5"
      },
      "execution_count": null,
      "outputs": [
        {
          "output_type": "execute_result",
          "data": {
            "text/plain": [
              "10000"
            ]
          },
          "metadata": {},
          "execution_count": 8
        }
      ]
    },
    {
      "cell_type": "code",
      "source": [
        "test_labels"
      ],
      "metadata": {
        "colab": {
          "base_uri": "https://localhost:8080/"
        },
        "id": "WXhrLZmz6X6Y",
        "outputId": "3c6199df-b1ff-47cc-912b-1e02b97c4ef0"
      },
      "execution_count": null,
      "outputs": [
        {
          "output_type": "execute_result",
          "data": {
            "text/plain": [
              "array([7, 2, 1, ..., 4, 5, 6], dtype=uint8)"
            ]
          },
          "metadata": {},
          "execution_count": 9
        }
      ]
    },
    {
      "cell_type": "code",
      "source": [
        "from tensorflow import keras \n",
        "from tensorflow.keras import layers\n",
        "model = keras.Sequential([\n",
        "    layers.Dense(512, activation=\"relu\"),  #  model consists of a sequence of two Dense layers, which are densely connected (also called fully connected) neural layers.\n",
        "    layers.Dense(10, activation=\"softmax\") #  The second (and last) layer is a 10-way softmax classification layer, which means it will return an array of 10 probability scores (summing to 1)\n",
        "])"
      ],
      "metadata": {
        "id": "H-j0v_LG6krZ"
      },
      "execution_count": null,
      "outputs": []
    },
    {
      "cell_type": "markdown",
      "source": [
        " An optimizer—The mechanism through which the model will update itself based on the training data it sees, so as to improve its performance. \n",
        " \n",
        "   A loss function—How the model will be able to measure its performance on the training data, and thus how it will be able to steer itself in the right direction.\n",
        "\n",
        " Metrics to monitor during training and testing—Here, we’ll only care about accuracy (the fraction of the images that were correctly classified)."
      ],
      "metadata": {
        "id": "OJVwwMNv7ffv"
      }
    },
    {
      "cell_type": "code",
      "source": [
        "model.compile(optimizer=\"rmsprop\",\n",
        "              loss=\"sparse_categorical_crossentropy\",\n",
        "              metrics=[\"accuracy\"])"
      ],
      "metadata": {
        "id": "AaAxus0F7X9G"
      },
      "execution_count": null,
      "outputs": []
    },
    {
      "cell_type": "markdown",
      "source": [
        "Before training, we’ll preprocess the data by reshaping it into the shape the model expects and scaling it so that all values are in the [0, 1] interval. Previously, our training images were stored in an array of shape (60000, 28, 28) of type uint8 with values in the [0, 255] interval. We’ll transform it into a float32 array of shape (60000, 28 * 28) with values between 0 and 1."
      ],
      "metadata": {
        "id": "TFkgo_nA8S00"
      }
    },
    {
      "cell_type": "code",
      "source": [
        "train_images = train_images.reshape((60000, 28 * 28))\n",
        "train_images = train_images.astype(\"float32\") / 255 \n",
        "test_images = test_images.reshape((10000, 28 * 28))\n",
        "test_images = test_images.astype(\"float32\") / 255"
      ],
      "metadata": {
        "id": "gz3MbPuH8YzU"
      },
      "execution_count": null,
      "outputs": []
    },
    {
      "cell_type": "code",
      "source": [
        "model.fit(train_images, train_labels, epochs=5, batch_size=128)"
      ],
      "metadata": {
        "colab": {
          "base_uri": "https://localhost:8080/"
        },
        "id": "jVBlUlu_8q88",
        "outputId": "61c88a07-44b8-4b43-c408-62e5271264ae"
      },
      "execution_count": null,
      "outputs": [
        {
          "output_type": "stream",
          "name": "stdout",
          "text": [
            "Epoch 1/5\n",
            "469/469 [==============================] - 5s 8ms/step - loss: 0.2567 - accuracy: 0.9253\n",
            "Epoch 2/5\n",
            "469/469 [==============================] - 4s 8ms/step - loss: 0.1046 - accuracy: 0.9688\n",
            "Epoch 3/5\n",
            "469/469 [==============================] - 4s 8ms/step - loss: 0.0685 - accuracy: 0.9796\n",
            "Epoch 4/5\n",
            "469/469 [==============================] - 4s 9ms/step - loss: 0.0499 - accuracy: 0.9850\n",
            "Epoch 5/5\n",
            "469/469 [==============================] - 4s 10ms/step - loss: 0.0368 - accuracy: 0.9889\n"
          ]
        },
        {
          "output_type": "execute_result",
          "data": {
            "text/plain": [
              "<keras.callbacks.History at 0x7f8f765f5130>"
            ]
          },
          "metadata": {},
          "execution_count": 13
        }
      ]
    },
    {
      "cell_type": "markdown",
      "source": [
        "Two quantities are displayed during training: the loss of the model over the training data, and the accuracy of the model over the training data. We quickly reach an accuracy of 0.989 (98.9%) on the training data.\n",
        "\n",
        "\n",
        "\n",
        "Now that we have a trained model, we can use it to predict class probabilities for new digits—images that weren’t part of the training data, like those from the test set."
      ],
      "metadata": {
        "id": "2Z8fkt0e81SF"
      }
    },
    {
      "cell_type": "code",
      "source": [
        "test_digits = test_images[0:10]\n",
        "predictions = model.predict(test_digits)\n",
        "predictions[0]"
      ],
      "metadata": {
        "colab": {
          "base_uri": "https://localhost:8080/"
        },
        "id": "Ak2Jkurp836R",
        "outputId": "d320b1f5-a406-44c5-b12c-94f7ee5de2ae"
      },
      "execution_count": null,
      "outputs": [
        {
          "output_type": "stream",
          "name": "stdout",
          "text": [
            "1/1 [==============================] - 0s 69ms/step\n"
          ]
        },
        {
          "output_type": "execute_result",
          "data": {
            "text/plain": [
              "array([1.7419350e-09, 3.5505002e-12, 1.2811556e-06, 5.2380351e-06,\n",
              "       1.9315142e-13, 5.0099387e-09, 1.4714426e-14, 9.9999326e-01,\n",
              "       2.0756183e-09, 9.8492954e-08], dtype=float32)"
            ]
          },
          "metadata": {},
          "execution_count": 14
        }
      ]
    },
    {
      "cell_type": "markdown",
      "source": [
        "Each number of index i in that array corresponds to the probability that digit image test_digits[0] belongs to class i.\n",
        "\n",
        "\n",
        "This first test digit has the highest probability score (0.99999106, almost 1) at index 7, so according to our model, it must be a 7:"
      ],
      "metadata": {
        "id": "zh5mSYZf9XYA"
      }
    },
    {
      "cell_type": "code",
      "source": [
        "predictions[0].argmax()"
      ],
      "metadata": {
        "colab": {
          "base_uri": "https://localhost:8080/"
        },
        "id": "MsOUzCTc95X4",
        "outputId": "9c03e7de-d0ea-4bef-a7eb-9e03d6e70621"
      },
      "execution_count": null,
      "outputs": [
        {
          "output_type": "execute_result",
          "data": {
            "text/plain": [
              "7"
            ]
          },
          "metadata": {},
          "execution_count": 15
        }
      ]
    },
    {
      "cell_type": "code",
      "source": [
        "predictions[0][7]"
      ],
      "metadata": {
        "colab": {
          "base_uri": "https://localhost:8080/"
        },
        "id": "efalKP1G-CtC",
        "outputId": "8456e762-7420-4676-829a-03471e1fb40b"
      },
      "execution_count": null,
      "outputs": [
        {
          "output_type": "execute_result",
          "data": {
            "text/plain": [
              "0.99999326"
            ]
          },
          "metadata": {},
          "execution_count": 16
        }
      ]
    },
    {
      "cell_type": "code",
      "source": [
        "test_labels[0]"
      ],
      "metadata": {
        "colab": {
          "base_uri": "https://localhost:8080/"
        },
        "id": "mBmpwEhm-IBW",
        "outputId": "4382c672-5c89-459d-b8ae-9de3f376303f"
      },
      "execution_count": null,
      "outputs": [
        {
          "output_type": "execute_result",
          "data": {
            "text/plain": [
              "7"
            ]
          },
          "metadata": {},
          "execution_count": 17
        }
      ]
    },
    {
      "cell_type": "markdown",
      "source": [
        " computing average accuracy over the entire test set"
      ],
      "metadata": {
        "id": "laCQuVJy-TTm"
      }
    },
    {
      "cell_type": "code",
      "source": [
        "test_loss, test_acc = model.evaluate(test_images, test_labels)\n",
        "print(f\"test_acc: {test_acc}\")"
      ],
      "metadata": {
        "colab": {
          "base_uri": "https://localhost:8080/"
        },
        "id": "sSpnk3h2-S-U",
        "outputId": "fb711b1f-c6d5-463d-bdd1-c0abdca57834"
      },
      "execution_count": null,
      "outputs": [
        {
          "output_type": "stream",
          "name": "stdout",
          "text": [
            "313/313 [==============================] - 1s 2ms/step - loss: 0.0795 - accuracy: 0.9776\n",
            "test_acc: 0.9775999784469604\n"
          ]
        }
      ]
    },
    {
      "cell_type": "markdown",
      "source": [
        "The test-set accuracy turns out to be 97.8%—that’s quite a bit lower than the training-set accuracy (98.9%). This gap between training accuracy and test accuracy is an example of overfitting: the fact that machine learning models tend to perform worse on new data than on their training data."
      ],
      "metadata": {
        "id": "vsS05iPZ-tKE"
      }
    },
    {
      "cell_type": "markdown",
      "source": [
        "# **Data representations for neural networks**\n",
        "\n",
        "At its core, a tensor is a container for data—usually numerical data.A tensor that contains only one number is called a scalar (or scalar tensor, or rank-0 tensor, or 0D tensor). In NumPy, a float32 or float64 number is a scalar tensor (or scalar array). You can display the number of axes of a NumPy tensor via the ndim attribute; a scalar tensor has 0 axes (ndim == 0). The number of axes of a tensor is also called its rank. Here’s a NumPy scalar:\n",
        "\n",
        "\n"
      ],
      "metadata": {
        "id": "BYUIPH7U_WdM"
      }
    },
    {
      "cell_type": "code",
      "source": [
        "import numpy as np\n",
        "x = np.array(12)\n",
        "x   # array(12)\n",
        "x.ndim  # 0"
      ],
      "metadata": {
        "id": "In-ZvTIb_xAD"
      },
      "execution_count": null,
      "outputs": []
    },
    {
      "cell_type": "markdown",
      "source": [
        "An array of numbers is called a vector, or rank-1 tensor, or 1D tensor. A rank-1 tensor is said to have exactly one axis. Following is a NumPy vector:"
      ],
      "metadata": {
        "id": "PCGslnyZAIXj"
      }
    },
    {
      "cell_type": "code",
      "source": [
        "x = np.array([12, 3, 6, 14, 7])\n",
        "x\n",
        "#array([12, 3, 6, 14, 7])\n",
        "x.ndim \n",
        "#1"
      ],
      "metadata": {
        "id": "ZjZUFuWCAJlU"
      },
      "execution_count": null,
      "outputs": []
    },
    {
      "cell_type": "markdown",
      "source": [
        "An array of vectors is a matrix, or rank-2 tensor, or 2D tensor. A matrix has two axes (often referred to as rows and columns). You can visually interpret a matrix as a rectangular grid of numbers. This is a NumPy matrix:"
      ],
      "metadata": {
        "id": "GhH43UXhAkLf"
      }
    },
    {
      "cell_type": "code",
      "source": [
        "x = np.array([[5, 78, 2, 34, 0],\n",
        "                  [6, 79, 3, 35, 1],\n",
        "                  [7, 80, 4, 36, 2]])\n",
        "x.ndim \n",
        "#2"
      ],
      "metadata": {
        "id": "avMHZpEwAlEw"
      },
      "execution_count": null,
      "outputs": []
    },
    {
      "cell_type": "markdown",
      "source": [
        "If you pack such matrices in a new array, you obtain a rank-3 tensor (or 3D tensor), which you can visually interpret as a cube of numbers. Following is a NumPy rank-3 tensor:"
      ],
      "metadata": {
        "id": "8FjsJj4kA3IS"
      }
    },
    {
      "cell_type": "code",
      "source": [
        "x = np.array([[[5, 78, 2, 34, 0],\n",
        "                   [6, 79, 3, 35, 1],\n",
        "                   [7, 80, 4, 36, 2]],\n",
        "                  [[5, 78, 2, 34, 0],\n",
        "                   [6, 79, 3, 35, 1],\n",
        "                   [7, 80, 4, 36, 2]],\n",
        "                  [[5, 78, 2, 34, 0],\n",
        "                   [6, 79, 3, 35, 1],\n",
        "                   [7, 80, 4, 36, 2]]])\n",
        "x.ndim\n",
        "#3"
      ],
      "metadata": {
        "id": "HQcvwAKSA6EA"
      },
      "execution_count": null,
      "outputs": []
    },
    {
      "cell_type": "code",
      "source": [
        "from tensorflow.keras.datasets import mnist\n",
        "(train_images, train_labels), (test_images, test_labels) = mnist.load_data()\n",
        "train_images.ndim"
      ],
      "metadata": {
        "colab": {
          "base_uri": "https://localhost:8080/"
        },
        "id": "YdaM5dWzBg_W",
        "outputId": "3a9bd0c0-2d50-4b4d-d8ce-51fcaf3685ac"
      },
      "execution_count": null,
      "outputs": [
        {
          "output_type": "execute_result",
          "data": {
            "text/plain": [
              "3"
            ]
          },
          "metadata": {},
          "execution_count": 26
        }
      ]
    },
    {
      "cell_type": "code",
      "source": [
        "train_images.shape"
      ],
      "metadata": {
        "colab": {
          "base_uri": "https://localhost:8080/"
        },
        "id": "yS0AP6gkBucX",
        "outputId": "4f2a679d-3af2-4968-c6dc-f727103444ce"
      },
      "execution_count": null,
      "outputs": [
        {
          "output_type": "execute_result",
          "data": {
            "text/plain": [
              "(60000, 28, 28)"
            ]
          },
          "metadata": {},
          "execution_count": 27
        }
      ]
    },
    {
      "cell_type": "code",
      "source": [
        "train_images.dtype"
      ],
      "metadata": {
        "colab": {
          "base_uri": "https://localhost:8080/"
        },
        "id": "h914GpKqBy-w",
        "outputId": "1add4365-54c5-4e4d-c1a0-7d07308258e3"
      },
      "execution_count": null,
      "outputs": [
        {
          "output_type": "execute_result",
          "data": {
            "text/plain": [
              "dtype('uint8')"
            ]
          },
          "metadata": {},
          "execution_count": 28
        }
      ]
    },
    {
      "cell_type": "markdown",
      "source": [
        "\n",
        "\n",
        "  Let’s display the fourth digit in this rank-3 tensor"
      ],
      "metadata": {
        "id": "T0i7rPvfB-CY"
      }
    },
    {
      "cell_type": "code",
      "source": [
        "import matplotlib.pyplot as plt\n",
        "digit = train_images[4]\n",
        "plt.imshow(digit, cmap=plt.cm.binary)\n",
        "plt.show()"
      ],
      "metadata": {
        "colab": {
          "base_uri": "https://localhost:8080/",
          "height": 265
        },
        "id": "W73elbCqB9xy",
        "outputId": "79579889-1dfc-40f9-f3e0-71920fa1eb9f"
      },
      "execution_count": null,
      "outputs": [
        {
          "output_type": "display_data",
          "data": {
            "text/plain": [
              "<Figure size 432x288 with 1 Axes>"
            ],
            "image/png": "[encoded data removed]"
          },
          "metadata": {
            "needs_background": "light"
          }
        }
      ]
    },
    {
      "cell_type": "code",
      "source": [
        "train_labels[4]"
      ],
      "metadata": {
        "colab": {
          "base_uri": "https://localhost:8080/"
        },
        "id": "j_PLzLMACIDk",
        "outputId": "efc3a078-4b3d-463a-e6a0-36fa1696a782"
      },
      "execution_count": null,
      "outputs": [
        {
          "output_type": "execute_result",
          "data": {
            "text/plain": [
              "9"
            ]
          },
          "metadata": {},
          "execution_count": 30
        }
      ]
    },
    {
      "cell_type": "markdown",
      "source": [
        "\n",
        "\n",
        "  The following example selects digits #10 to #100 (#100 isn’t included) and puts them in an array of shape (90, 28, 28):"
      ],
      "metadata": {
        "id": "j_N7vP50CbEb"
      }
    },
    {
      "cell_type": "code",
      "source": [
        "my_slice = train_images[10:100]\n",
        "my_slice.shape\n",
        "#(90, 28, 28)\n",
        "\n",
        "my_slice = train_images[10:100, :, :]          \n",
        "my_slice.shape\n",
        "#(90, 28, 28)\n",
        "\n",
        "my_slice = train_images[10:100, 0:28, 0:28]   \n",
        "my_slice.shape\n",
        "#(90, 28, 28)\n",
        "\n",
        "# For instance, in order to select 14 × 14 pixels in the bottom-right corner of all images, you would do this:\n",
        "\n",
        "\n",
        "my_slice = train_images[:, 14:, 14:]\n",
        "\n",
        "#  In order to crop the images to patches of 14 × 14 pixels centered in the middle, you’d do this:\n",
        "#  negative indices in Python lists indicate a position relative to the end of the current axis.\n",
        "my_slice = train_images[:, 7:-7, 7:-7]"
      ],
      "metadata": {
        "id": "FqoCn4ftCciE"
      },
      "execution_count": null,
      "outputs": []
    },
    {
      "cell_type": "markdown",
      "source": [
        "In general, the first axis (axis 0, because indexing starts at 0) in all data tensors you’ll come across in deep learning will be the samples axis (sometimes called the samples dimension). In the MNIST example, “samples” are images of digits.\n",
        "\n",
        "  In addition, deep learning models don’t process an entire dataset at once; rather, they break the data into small batches. Concretely, here’s one batch of our MNIST digits, with a batch size of 128:"
      ],
      "metadata": {
        "id": "BjxkmBWqEwy2"
      }
    },
    {
      "cell_type": "code",
      "source": [
        "batch = train_images[:128]\n",
        "#  And here’s the next batch:\n",
        "batch = train_images[:128]\n",
        "\n",
        "\n",
        "n = 3 \n",
        "batch = train_images[128 * n:128 * (n + 1)]"
      ],
      "metadata": {
        "id": "v6uDOWN9Ex2O"
      },
      "execution_count": null,
      "outputs": []
    },
    {
      "cell_type": "markdown",
      "source": [
        "\n",
        "\n",
        "  When considering such a batch tensor, the first axis (axis 0) is called the batch axis or batch dimension. This is a term you’ll frequently encounter when using Keras and other deep learning libraries."
      ],
      "metadata": {
        "id": "cMtjy6DpFJ3G"
      }
    },
    {
      "cell_type": "markdown",
      "source": [
        "Let’s make data tensors more concrete with a few examples similar to what you’ll encounter later. The data you’ll manipulate will almost always fall into one of the following categories:\n",
        "\n",
        "  \n",
        "    \n",
        "**Vector data**—Rank-2 tensors of shape (samples, features), where each sample is a vector of numerical attributes (“features”)\n",
        "    \n",
        "\n",
        "    \n",
        "**Timeseries data** or sequence data—Rank-3 tensors of shape (samples, timesteps, features), where each sample is a sequence (of length timesteps) of feature vectors\n",
        "    \n",
        "\n",
        "    \n",
        "**Images**—Rank-4 tensors of shape (samples, height, width, channels), where each sample is a 2D grid of pixels, and each pixel is represented by a vector of values (“channels”)\n",
        "    \n",
        "\n",
        " **Video**—Rank-5 tensors of shape (samples, frames, height, width, channels), where each sample is a sequence (of length frames) of images\n",
        "\n",
        "\n",
        "\n"
      ],
      "metadata": {
        "id": "bYUJVEd5FLqG"
      }
    },
    {
      "cell_type": "markdown",
      "source": [
        " Vector data\n",
        "\n",
        "  This is one of the most common cases. In such a dataset, each single data point can be encoded as a vector, and thus a batch of data will be encoded as a rank-2 tensor (that is, an array of vectors), where the first axis is the samples axis and the second axis is the features axis.\n",
        "\n",
        "  Let’s take a look at two examples:\n",
        "\n",
        "  \n",
        "    \n",
        "An actuarial dataset of people, where we consider each person’s age, gender, and income. Each person can be characterized as a vector of 3 values, and thus an entire dataset of 100,000 people can be stored in a rank-2 tensor of shape (100000, 3).\n",
        "    \n",
        "\n",
        "    \n",
        "A dataset of text documents, where we represent each document by the counts of how many times each word appears in it (out of a dictionary of 20,000 common words). Each document can be encoded as a vector of 20,000 values (one count per word in the dictionary), and thus an entire dataset of 500 documents can be stored in a tensor of shape (500, 20000)."
      ],
      "metadata": {
        "id": "R1DH-KRTFcKN"
      }
    },
    {
      "cell_type": "markdown",
      "source": [
        "Whenever time matters in your data (or the notion of sequence order), it makes sense to store it in a rank-3 tensor with an explicit time axis. Each sample can be encoded as a sequence of vectors (a rank-2 tensor), and thus a batch of data will be encoded as a rank-3 tensor\n",
        "\n",
        "\n",
        "  The time axis is always the second axis (axis of index 1) by convention. Let’s look at a few examples:\n",
        "\n",
        "  \n",
        "    \n",
        "A dataset of stock prices. Every minute, we store the current price of the stock, the highest price in the past minute, and the lowest price in the past minute. Thus, every minute is encoded as a 3D vector, an entire day of trading is encoded as a matrix of shape (390, 3) (there are 390 minutes in a trading day), and 250 days’ worth of data can be stored in a rank-3 tensor of shape (250, 390, 3). Here, each sample would be one day’s worth of data.\n",
        "    \n",
        "\n",
        "    \n",
        "A dataset of tweets, where we encode each tweet as a sequence of 280 characters out of an alphabet of 128 unique characters. In this setting, each character can be encoded as a binary vector of size 128 (an all-zeros vector except for a 1 entry at the index corresponding to the character). Then each tweet can be encoded as a rank-2 tensor of shape (280, 128), and a dataset of 1 million tweets can be stored in a tensor of shape (1000000, 280, 128).\n",
        "\n",
        "![Untitled.jpg](data:image/jpeg;base64,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)"
      ],
      "metadata": {
        "id": "CmsSz6buGAwK"
      }
    },
    {
      "cell_type": "markdown",
      "source": [
        "Images typically have three dimensions: height, width, and color depth. Although grayscale images (like our MNIST digits) have only a single color channel and could thus be stored in rank-2 tensors, by convention image tensors are always rank-3, with a one-dimensional color channel for grayscale images. A batch of 128 grayscale images of size 256 × 256 could thus be stored in a tensor of shape (128, 256, 256, 1), and a batch of 128 color images could be stored in a tensor of shape (128, 256, 256, 3)\n",
        "\n",
        "![Untitled.jpg](data:image/jpeg;base64,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)\n"
      ],
      "metadata": {
        "id": "nTbZ5gIGG3dw"
      }
    },
    {
      "cell_type": "markdown",
      "source": [
        "\n",
        "\n",
        "  There are two conventions for shapes of image tensors: the channels-last convention (which is standard in TensorFlow) and the channels-first convention (which is increasingly falling out of favor).\n",
        "\n",
        "  The channels-last convention places the color-depth axis at the end: (samples, height, width, color_depth). Meanwhile, the channels-first convention places the color depth axis right after the batch axis: (samples, color_depth, height, width). With the channels-first convention, the previous examples would become (128, 1, 256, 256) and (128, 3, 256, 256). The Keras API provides support for both formats."
      ],
      "metadata": {
        "id": "mIDilWpUHPUz"
      }
    },
    {
      "cell_type": "markdown",
      "source": [
        "\n",
        "\n",
        "\n",
        "\n",
        "  Video data is one of the few types of real-world data for which you’ll need rank-5 tensors. A video can be understood as a sequence of frames, each frame being a color image. Because each frame can be stored in a rank-3 tensor (height, width, color_ depth), a sequence of frames can be stored in a rank-4 tensor (frames, height, width, color_depth), and thus a batch of different videos can be stored in a rank-5 tensor of shape (samples, frames, height, width, color_depth).\n",
        "\n",
        "  For instance, a 60-second, 144 × 256 YouTube video clip sampled at 4 frames per second would have 240 frames. A batch of four such video clips would be stored in a tensor of shape (4, 240, 144, 256, 3). That’s a total of 106,168,320 values! If the dtype of the tensor was float32, each value would be stored in 32 bits, so the tensor would represent 405 MB. Heavy! Videos you encounter in real life are much lighter, because they aren’t stored in float32, and they’re typically compressed by a large factor (such as in the MPEG format).\n",
        "\n"
      ],
      "metadata": {
        "id": "G71tEjA6HTm_"
      }
    },
    {
      "cell_type": "markdown",
      "source": [
        "\n",
        "\n",
        "  In our initial example, we built our model by stacking Dense layers on top of each other. A Keras layer instance looks like this:"
      ],
      "metadata": {
        "id": "YO3trahMH41U"
      }
    },
    {
      "cell_type": "code",
      "source": [
        "keras.layers.Dense(512, activation=\"relu\")"
      ],
      "metadata": {
        "colab": {
          "base_uri": "https://localhost:8080/"
        },
        "id": "Lq0KUSCDIj7Y",
        "outputId": "8ddd3426-0be6-4c19-998b-13d45e29cf0b"
      },
      "execution_count": null,
      "outputs": [
        {
          "output_type": "execute_result",
          "data": {
            "text/plain": [
              "<keras.layers.core.dense.Dense at 0x7f8f764d37c0>"
            ]
          },
          "metadata": {},
          "execution_count": 32
        }
      ]
    },
    {
      "cell_type": "markdown",
      "source": [
        "\n",
        "\n",
        "  This layer can be interpreted as a function, which takes as input a matrix and returns another matrix—a new representation for the input tensor. Specifically, the function is as follows (where W is a matrix and b is a vector, both attributes of the layer):\n",
        "\n",
        "  output = relu (dot(input, W) + b)\n",
        "  \n",
        "\n",
        "  Let’s unpack this. We have three tensor operations here:\n",
        "\n",
        "  \n",
        "    \n",
        "      A dot product (dot) between the input tensor and a tensor named W\n",
        "    \n",
        "\n",
        "    \n",
        "      An addition (+) between the resulting matrix and a vector b\n",
        "    \n",
        "\n",
        "    \n",
        "      A relu operation: relu(x) is max(x, 0); “relu” stands for “rectified linear unit”\n",
        "\n",
        "\n",
        "\n",
        "  The relu operation and addition are element-wise operations: operations that are applied independently to each entry in the tensors being considered. This means these operations are highly amenable to massively parallel implementations"
      ],
      "metadata": {
        "id": "EnCAEqN8IqHe"
      }
    },
    {
      "cell_type": "code",
      "source": [
        "def naive_relu(x):\n",
        "    assert len(x.shape) == 2     \n",
        "    x = x.copy()                 \n",
        "    for i in range(x.shape[0]):\n",
        "        for j in range(x.shape[1]):\n",
        "            x[i, j] = max(x[i, j], 0)\n",
        "    return x"
      ],
      "metadata": {
        "id": "WMvfqdCOJfyD"
      },
      "execution_count": null,
      "outputs": []
    },
    {
      "cell_type": "code",
      "source": [
        "def naive_add(x, y):\n",
        "    assert len(x.shape) == 2       \n",
        "    assert x.shape == y.shape\n",
        "    x = x.copy()                   \n",
        "    for i in range(x.shape[0]):\n",
        "        for j in range(x.shape[1]):\n",
        "            x[i, j] += y[i, j]\n",
        "    return x"
      ],
      "metadata": {
        "id": "5QvluyoeJ1zL"
      },
      "execution_count": null,
      "outputs": []
    },
    {
      "cell_type": "code",
      "source": [
        "import time\n",
        "  \n",
        "x = np.random.random((20, 100))\n",
        "y = np.random.random((20, 100))\n",
        "  \n",
        "t0 = time.time() \n",
        "for _ in range(1000):\n",
        "    z = x + y\n",
        "    z = np.maximum(z, 0.) \n",
        "print(\"Took: {0:.2f} s\".format(time.time() - t0))"
      ],
      "metadata": {
        "id": "FHZeWugpK0lO"
      },
      "execution_count": null,
      "outputs": []
    },
    {
      "cell_type": "markdown",
      "source": [
        "# Broadcasting\n",
        "\n",
        " the smaller tensor will be broadcast to match the shape of the larger tensor. Broadcasting consists of two steps:\n",
        "\n",
        "  \n",
        "    \n",
        "Axes (called broadcast axes) are added to the smaller tensor to match the ndim of the larger tensor.\n",
        "    \n",
        "\n",
        "    \n",
        "The smaller tensor is repeated alongside these new axes to match the full shape of the larger tensor."
      ],
      "metadata": {
        "id": "h1ehZIl7LMGY"
      }
    },
    {
      "cell_type": "code",
      "source": [
        "import numpy as np\n",
        "X = np.random.random((32, 10))     \n",
        "y = np.random.random((10,))\n",
        "\n",
        "#   First, we add an empty first axis to y, whose shape becomes (1, 10):\n",
        "y = np.expand_dims(y, axis=0)\n",
        "\n",
        "#  Then, we repeat y 32 times alongside this new axis, so that we end up with a tensor Y with shape (32, 10), where Y[i, :] == y for i in range(0, 32):\n",
        "\n",
        "Y = np.concatenate([y] * 32, axis=0) \n",
        "\n",
        "X.shape\n",
        "# (32, 10)\n",
        "Y.shape\n",
        "# (32, 10)\n",
        "\n",
        "#  At this point, we can proceed to add X and Y, because they have the same shape."
      ],
      "metadata": {
        "id": "F5C63h2BLbj1"
      },
      "execution_count": null,
      "outputs": []
    },
    {
      "cell_type": "markdown",
      "source": [
        "\n",
        "\n",
        "  In terms of implementation, no new rank-2 tensor is created, because that would be terribly inefficient. The repetition operation is entirely virtual: it happens at the algorithmic level rather than at the memory level."
      ],
      "metadata": {
        "id": "WiR4XWleNHKv"
      }
    },
    {
      "cell_type": "code",
      "source": [
        "def naive_add_matrix_and_vector(x, y):\n",
        "    assert len(x.shape) == 2               \n",
        "    assert len(y.shape) == 1              \n",
        "    assert x.shape[1] == y.shape[0]\n",
        "    x = x.copy()                           \n",
        "    for i in range(x.shape[0]):\n",
        "        for j in range(x.shape[1]):\n",
        "            x[i, j] += y[j]\n",
        "    return x"
      ],
      "metadata": {
        "id": "7FVu5MxrNPdQ"
      },
      "execution_count": null,
      "outputs": []
    }
  ]
}